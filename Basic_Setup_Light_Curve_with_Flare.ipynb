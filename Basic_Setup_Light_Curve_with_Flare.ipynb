{
 "cells": [
  {
   "cell_type": "code",
   "execution_count": 1,
   "metadata": {},
   "outputs": [
    {
     "name": "stderr",
     "output_type": "stream",
     "text": [
      "/home/ekaterina/Documents/000_envs/forallpurposes/lib/python3.6/importlib/_bootstrap.py:219: RuntimeWarning: numpy.ufunc size changed, may indicate binary incompatibility. Expected 192 from C header, got 216 from PyObject\n",
      "  return f(*args, **kwds)\n"
     ]
    }
   ],
   "source": [
    "# This quickly generates a FlareLightCurve\n",
    "from altaipony.tests.test_flarelc import mock_flc\n",
    "\n",
    "#Alternatively, use\n",
    "from altaipony.flarelc import FlareLightCurve\n",
    "\n",
    "# We shall be testing our code\n",
    "import pytest \n",
    "\n",
    "# The basis\n",
    "import numpy as np\n",
    "import pandas as pd\n",
    "\n",
    "# For plotting diagnostics\n",
    "import matplotlib.pyplot as plt\n",
    "%matplotlib inline\n",
    "\n",
    "# Import our main class\n",
    "from flarefairy import FlareFairy"
   ]
  },
  {
   "cell_type": "code",
   "execution_count": null,
   "metadata": {},
   "outputs": [],
   "source": [
    "# Q-learning parameters that are fixed ad hoc\n",
    "DISCRETE_OS_SIZE = [20, 20]\n",
    "LEARNING_RATE = .5\n",
    "DISCOUNT = .75"
   ]
  },
  {
   "cell_type": "code",
   "execution_count": 52,
   "metadata": {},
   "outputs": [],
   "source": [
    "# Let's generate a flare light curve to work with\n",
    "\n",
    "# small size to keep computational effort at bay\n",
    "n = 300\n",
    "\n",
    "# time, flux noise\n",
    "time = np.linspace(20,22,n)\n",
    "flux = 500. + 15.* np.sin(time*2)\n",
    "flux_err = flux * .0005\n",
    "\n",
    "# a hand-crafted flare signal\n",
    "flux[60] = 730\n",
    "flux[61] = 600\n",
    "flux[62] = 560\n",
    "flux[63] = 530\n",
    "flux[64] = 525\n",
    "flux[65] = 520\n",
    "flux[66] = 515\n",
    "flux[67] = 510\n",
    "\n",
    "# define FlareLightCurve object\n",
    "flc = FlareLightCurve(time=time, flux=flux, flux_err=flux_err)"
   ]
  },
  {
   "cell_type": "code",
   "execution_count": 53,
   "metadata": {},
   "outputs": [
    {
     "data": {
      "image/png": "[encoded data removed]",
      "text/plain": [
       "<Figure size 1008x288 with 1 Axes>"
      ]
     },
     "metadata": {
      "needs_background": "light"
     },
     "output_type": "display_data"
    }
   ],
   "source": [
    "# get de-trended light curve (useful for later)\n",
    "flcd = flc.detrend(\"savgol\")\n",
    "\n",
    "# look at the result\n",
    "plt.figure(figsize=(14,4))\n",
    "plt.errorbar(flcd.time, flcd.flux, yerr=flcd.flux_err, label=\"before de-trending\");\n",
    "plt.errorbar(flcd.time, flcd.detrended_flux, yerr=flcd.detrended_flux_err, label=\"after de-trending\");"
   ]
  },
  {
   "cell_type": "code",
   "execution_count": 56,
   "metadata": {},
   "outputs": [
    {
     "name": "stderr",
     "output_type": "stream",
     "text": [
      "Found 1 candidate(s) in the (0,300) gap.\n"
     ]
    },
    {
     "data": {
      "text/plain": [
       "istart                             49\n",
       "istop                              68\n",
       "cstart                            NaN\n",
       "cstop                             NaN\n",
       "tstart                        20.3278\n",
       "tstop                         20.4548\n",
       "ed_rec                        603.787\n",
       "ed_rec_err                   0.574768\n",
       "ampl_rec                     0.466899\n",
       "dur                           0.12709\n",
       "total_n_valid_data_points         300\n",
       "Name: 0, dtype: object"
      ]
     },
     "execution_count": 56,
     "metadata": {},
     "output_type": "execute_result"
    }
   ],
   "source": [
    "# Find the flare wi\n",
    "flare = flcd.find_flares().flares.iloc[0]"
   ]
  },
  {
   "cell_type": "code",
   "execution_count": null,
   "metadata": {},
   "outputs": [],
   "source": []
  }
 ],
 "metadata": {
  "kernelspec": {
   "display_name": "forallpurposes",
   "language": "python",
   "name": "forallpurposes"
  },
  "language_info": {
   "codemirror_mode": {
    "name": "ipython",
    "version": 3
   },
   "file_extension": ".py",
   "mimetype": "text/x-python",
   "name": "python",
   "nbconvert_exporter": "python",
   "pygments_lexer": "ipython3",
   "version": "3.6.9"
  }
 },
 "nbformat": 4,
 "nbformat_minor": 2
}
